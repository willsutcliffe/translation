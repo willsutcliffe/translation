{
 "cells": [
  {
   "cell_type": "code",
   "execution_count": 2,
   "id": "dddc3574",
   "metadata": {
    "tags": []
   },
   "outputs": [],
   "source": [
    "import pandas as pd\n",
    "import numpy as np\n",
    "\n",
    "path = \"\"\n",
    "df1 = pd.read_csv(f\"{path}en_ru_1m_yandex.csv\")\n",
    "#df2 = pd.read_csv(\"sub.csv\")\n",
    "df3 = pd.read_csv(f\"{path}en_ru.csv\")\n",
    "df4 = pd.read_csv(f\"{path}en_ru_2.csv\")\n",
    "df5 = pd.read_csv(f\"{path}news.csv\")\n",
    "#df6 = pd.read_csv(\"rucrawl.csv\")\n",
    "#df2 = df2.dropna()\n",
    "#df2 = df2.drop_duplicates()\n",
    "df = pd.concat([df1,df3,df4,df5])\n",
    "df = df[['ru', 'en']]\n",
    "df = df.reset_index()\n",
    "df = df.dropna()\n",
    "df = df.drop_duplicates()\n",
    "\n",
    "df['lenru'] = df.ru.apply(lambda x:len(x.split()))\n",
    "df['lenen'] = df.en.apply(lambda x:len(x.split()))\n",
    "df = df.loc[ (df.lenen < 60) & (df.lenru < 60)]\n",
    "df[:5000].to_csv(\"test.csv\")"
   ]
  },
  {
   "cell_type": "code",
   "execution_count": 3,
   "id": "6586a0c8",
   "metadata": {
    "tags": []
   },
   "outputs": [
    {
     "data": {
      "text/html": [
       "<div>\n",
       "<style scoped>\n",
       "    .dataframe tbody tr th:only-of-type {\n",
       "        vertical-align: middle;\n",
       "    }\n",
       "\n",
       "    .dataframe tbody tr th {\n",
       "        vertical-align: top;\n",
       "    }\n",
       "\n",
       "    .dataframe thead th {\n",
       "        text-align: right;\n",
       "    }\n",
       "</style>\n",
       "<table border=\"1\" class=\"dataframe\">\n",
       "  <thead>\n",
       "    <tr style=\"text-align: right;\">\n",
       "      <th></th>\n",
       "      <th>index</th>\n",
       "      <th>ru</th>\n",
       "      <th>en</th>\n",
       "      <th>lenru</th>\n",
       "      <th>lenen</th>\n",
       "    </tr>\n",
       "  </thead>\n",
       "  <tbody>\n",
       "    <tr>\n",
       "      <th>0</th>\n",
       "      <td>0</td>\n",
       "      <td>такое развитие характера гарри может разочаров...</td>\n",
       "      <td>this new development in harry's character may ...</td>\n",
       "      <td>28</td>\n",
       "      <td>41</td>\n",
       "    </tr>\n",
       "    <tr>\n",
       "      <th>1</th>\n",
       "      <td>1</td>\n",
       "      <td>решение суда (группа вернулась под крыло к ele...</td>\n",
       "      <td>a nondisclosure clause in the final settlement...</td>\n",
       "      <td>24</td>\n",
       "      <td>24</td>\n",
       "    </tr>\n",
       "    <tr>\n",
       "      <th>2</th>\n",
       "      <td>2</td>\n",
       "      <td>когда тебе 18 или 19 лет, легко перенимать бан...</td>\n",
       "      <td>when you're 18 or 19 years old, you have that ...</td>\n",
       "      <td>15</td>\n",
       "      <td>15</td>\n",
       "    </tr>\n",
       "    <tr>\n",
       "      <th>3</th>\n",
       "      <td>3</td>\n",
       "      <td>а сейчас куча триьютов тем же самым black sabb...</td>\n",
       "      <td>now you have black sabbath and kiss tribute al...</td>\n",
       "      <td>11</td>\n",
       "      <td>9</td>\n",
       "    </tr>\n",
       "    <tr>\n",
       "      <th>4</th>\n",
       "      <td>4</td>\n",
       "      <td>я был единственным, кто занялся копированием д...</td>\n",
       "      <td>i was the one who sat down and copied them.</td>\n",
       "      <td>9</td>\n",
       "      <td>10</td>\n",
       "    </tr>\n",
       "    <tr>\n",
       "      <th>...</th>\n",
       "      <td>...</td>\n",
       "      <td>...</td>\n",
       "      <td>...</td>\n",
       "      <td>...</td>\n",
       "      <td>...</td>\n",
       "    </tr>\n",
       "    <tr>\n",
       "      <th>2511005</th>\n",
       "      <td>193207</td>\n",
       "      <td>их достижения остаются одними из самых значите...</td>\n",
       "      <td>the ability to begin to see more clearly than ...</td>\n",
       "      <td>10</td>\n",
       "      <td>27</td>\n",
       "    </tr>\n",
       "    <tr>\n",
       "      <th>2511006</th>\n",
       "      <td>193208</td>\n",
       "      <td>в тоже время революционное поколение зумы все ...</td>\n",
       "      <td>forced to reckon with your own vulnerability, ...</td>\n",
       "      <td>22</td>\n",
       "      <td>31</td>\n",
       "    </tr>\n",
       "    <tr>\n",
       "      <th>2511007</th>\n",
       "      <td>193209</td>\n",
       "      <td>в регионе, который преклоняется перед пожилыми...</td>\n",
       "      <td>mandela epitomized this rare gift.</td>\n",
       "      <td>21</td>\n",
       "      <td>5</td>\n",
       "    </tr>\n",
       "    <tr>\n",
       "      <th>2511008</th>\n",
       "      <td>193210</td>\n",
       "      <td>трое из десяти южноафриканцев младше 15 лет, ч...</td>\n",
       "      <td>how else could he have personally invited one ...</td>\n",
       "      <td>18</td>\n",
       "      <td>24</td>\n",
       "    </tr>\n",
       "    <tr>\n",
       "      <th>2511009</th>\n",
       "      <td>193211</td>\n",
       "      <td>каким-то образом зума должен найти способ уваж...</td>\n",
       "      <td>of course, behind mandela’s generous spirit wa...</td>\n",
       "      <td>34</td>\n",
       "      <td>11</td>\n",
       "    </tr>\n",
       "  </tbody>\n",
       "</table>\n",
       "<p>2480312 rows × 5 columns</p>\n",
       "</div>"
      ],
      "text/plain": [
       "          index                                                 ru  \\\n",
       "0             0  такое развитие характера гарри может разочаров...   \n",
       "1             1  решение суда (группа вернулась под крыло к ele...   \n",
       "2             2  когда тебе 18 или 19 лет, легко перенимать бан...   \n",
       "3             3  а сейчас куча триьютов тем же самым black sabb...   \n",
       "4             4  я был единственным, кто занялся копированием д...   \n",
       "...         ...                                                ...   \n",
       "2511005  193207  их достижения остаются одними из самых значите...   \n",
       "2511006  193208  в тоже время революционное поколение зумы все ...   \n",
       "2511007  193209  в регионе, который преклоняется перед пожилыми...   \n",
       "2511008  193210  трое из десяти южноафриканцев младше 15 лет, ч...   \n",
       "2511009  193211  каким-то образом зума должен найти способ уваж...   \n",
       "\n",
       "                                                        en  lenru  lenen  \n",
       "0        this new development in harry's character may ...     28     41  \n",
       "1        a nondisclosure clause in the final settlement...     24     24  \n",
       "2        when you're 18 or 19 years old, you have that ...     15     15  \n",
       "3        now you have black sabbath and kiss tribute al...     11      9  \n",
       "4              i was the one who sat down and copied them.      9     10  \n",
       "...                                                    ...    ...    ...  \n",
       "2511005  the ability to begin to see more clearly than ...     10     27  \n",
       "2511006  forced to reckon with your own vulnerability, ...     22     31  \n",
       "2511007                 mandela epitomized this rare gift.     21      5  \n",
       "2511008  how else could he have personally invited one ...     18     24  \n",
       "2511009  of course, behind mandela’s generous spirit wa...     34     11  \n",
       "\n",
       "[2480312 rows x 5 columns]"
      ]
     },
     "execution_count": 3,
     "metadata": {},
     "output_type": "execute_result"
    }
   ],
   "source": [
    "df"
   ]
  },
  {
   "cell_type": "code",
   "execution_count": null,
   "id": "ee566e64",
   "metadata": {
    "tags": []
   },
   "outputs": [],
   "source": []
  },
  {
   "cell_type": "code",
   "execution_count": 4,
   "id": "c330c467",
   "metadata": {
    "tags": []
   },
   "outputs": [],
   "source": [
    "import torch"
   ]
  },
  {
   "cell_type": "markdown",
   "id": "3a161600",
   "metadata": {},
   "source": [
    "# Load Data"
   ]
  },
  {
   "cell_type": "code",
   "execution_count": 5,
   "id": "b67ac7ec",
   "metadata": {
    "tags": []
   },
   "outputs": [],
   "source": [
    "from transformers import AutoTokenizer, AutoModelForSeq2SeqLM\n"
   ]
  },
  {
   "cell_type": "code",
   "execution_count": null,
   "id": "a8c48941",
   "metadata": {
    "tags": []
   },
   "outputs": [],
   "source": []
  },
  {
   "cell_type": "code",
   "execution_count": null,
   "id": "b561f424",
   "metadata": {},
   "outputs": [],
   "source": []
  },
  {
   "cell_type": "code",
   "execution_count": 6,
   "id": "4287ce2c",
   "metadata": {
    "tags": []
   },
   "outputs": [
    {
     "name": "stderr",
     "output_type": "stream",
     "text": [
      "Using custom data configuration default-e9226d0ca7886836\n"
     ]
    },
    {
     "name": "stdout",
     "output_type": "stream",
     "text": [
      "Downloading and preparing dataset csv/default to /home/sutclw/.cache/huggingface/datasets/csv/default-e9226d0ca7886836/0.0.0/6b34fb8fcf56f7c8ba51dc895bfa2bfbe43546f190a60fcf74bb5e8afdcc2317...\n"
     ]
    },
    {
     "data": {
      "application/vnd.jupyter.widget-view+json": {
       "model_id": "f87534062d72411cb9a5650dc27ca33b",
       "version_major": 2,
       "version_minor": 0
      },
      "text/plain": [
       "Downloading data files:   0%|          | 0/1 [00:00<?, ?it/s]"
      ]
     },
     "metadata": {},
     "output_type": "display_data"
    },
    {
     "data": {
      "application/vnd.jupyter.widget-view+json": {
       "model_id": "c1733a7418a641ee8d00754602ccc4b2",
       "version_major": 2,
       "version_minor": 0
      },
      "text/plain": [
       "Extracting data files:   0%|          | 0/1 [00:00<?, ?it/s]"
      ]
     },
     "metadata": {},
     "output_type": "display_data"
    },
    {
     "data": {
      "application/vnd.jupyter.widget-view+json": {
       "model_id": "",
       "version_major": 2,
       "version_minor": 0
      },
      "text/plain": [
       "Generating train split: 0 examples [00:00, ? examples/s]"
      ]
     },
     "metadata": {},
     "output_type": "display_data"
    },
    {
     "name": "stdout",
     "output_type": "stream",
     "text": [
      "Dataset csv downloaded and prepared to /home/sutclw/.cache/huggingface/datasets/csv/default-e9226d0ca7886836/0.0.0/6b34fb8fcf56f7c8ba51dc895bfa2bfbe43546f190a60fcf74bb5e8afdcc2317. Subsequent calls will reuse this data.\n"
     ]
    },
    {
     "name": "stderr",
     "output_type": "stream",
     "text": [
      "/home/sutclw/.local/lib/python3.10/site-packages/datasets/download/streaming_download_manager.py:776: FutureWarning: the 'mangle_dupe_cols' keyword is deprecated and will be removed in a future version. Please take steps to stop the use of 'mangle_dupe_cols'\n",
      "  return pd.read_csv(xopen(filepath_or_buffer, \"rb\", use_auth_token=use_auth_token), **kwargs)\n"
     ]
    },
    {
     "data": {
      "application/vnd.jupyter.widget-view+json": {
       "model_id": "cc0fec3166a24a8ab468ed601489f110",
       "version_major": 2,
       "version_minor": 0
      },
      "text/plain": [
       "  0%|          | 0/1 [00:00<?, ?it/s]"
      ]
     },
     "metadata": {},
     "output_type": "display_data"
    },
    {
     "name": "stdout",
     "output_type": "stream",
     "text": [
      "DatasetDict({\n",
      "    train: Dataset({\n",
      "        features: ['Unnamed: 0', 'index', 'ru', 'en', 'lenru', 'lenen'],\n",
      "        num_rows: 5000\n",
      "    })\n",
      "})\n"
     ]
    },
    {
     "data": {
      "application/vnd.jupyter.widget-view+json": {
       "model_id": "c7a0e93d297840d99baf22811da5020b",
       "version_major": 2,
       "version_minor": 0
      },
      "text/plain": [
       "  0%|          | 0/3 [00:00<?, ?ba/s]"
      ]
     },
     "metadata": {},
     "output_type": "display_data"
    },
    {
     "name": "stderr",
     "output_type": "stream",
     "text": [
      "/home/sutclw/anaconda3/envs/torch/lib/python3.10/site-packages/transformers/tokenization_utils_base.py:3581: UserWarning: `as_target_tokenizer` is deprecated and will be removed in v5 of Transformers. You can tokenize your labels by using the argument `text_target` of the regular `__call__` method (either in the same call as your input texts if you use the same keyword arguments, or in a separate call.\n",
      "  warnings.warn(\n"
     ]
    },
    {
     "data": {
      "application/vnd.jupyter.widget-view+json": {
       "model_id": "f07db353b855428380ec3516cabae765",
       "version_major": 2,
       "version_minor": 0
      },
      "text/plain": [
       "  0%|          | 0/3 [00:00<?, ?ba/s]"
      ]
     },
     "metadata": {},
     "output_type": "display_data"
    }
   ],
   "source": [
    "import torch\n",
    "from translation.models.encoder import Encoder\n",
    "from translation.models.decoder import Decoder\n",
    "from translation.models.transformers import Transformer\n",
    "\n",
    "import numpy as np\n",
    "from datasets import load_dataset\n",
    "from torch.utils.data import DataLoader\n",
    "from transformers import AutoTokenizer\n",
    "from transformers import DataCollatorForSeq2Seq\n",
    "\n",
    "from translation.models.transformers import Transformer\n",
    "from translation.models.encoder import Encoder\n",
    "from translation.models.decoder import Decoder\n",
    "\n",
    "\n",
    "def preprocess_function(batch,lang='ru-en'):\n",
    "    l1 = lang.split('-')[0]\n",
    "    l2 = lang.split('-')[1]\n",
    "    model_inputs = tokenizer(\n",
    "        batch[l1], max_length=max_input_length, truncation=True)\n",
    "\n",
    "    # Set up the tokenizer for targets\n",
    "    with tokenizer.as_target_tokenizer():\n",
    "        labels = tokenizer(batch[l2], max_length=max_target_length, truncation=True)\n",
    "\n",
    "    model_inputs[\"labels\"] = labels[\"input_ids\"]\n",
    "    return model_inputs\n",
    "\n",
    "\n",
    "\n",
    "torch.set_float32_matmul_precision('medium')\n",
    "raw_dataset = load_dataset('csv',\n",
    "        data_files='test.csv')\n",
    "print(raw_dataset)\n",
    "lang_pair = \"ru-en\"\n",
    "l1 = lang_pair.split('-')[0]\n",
    "l2 = lang_pair.split('-')[1]\n",
    "lang_pair = \"ru-en\"\n",
    "model_checkpoint = f\"Helsinki-NLP/opus-mt-{lang_pair}\"\n",
    "tokenizer = AutoTokenizer.from_pretrained(model_checkpoint)\n",
    "split = raw_dataset['train'].train_test_split(test_size=0.5, seed=42)\n",
    "max_input_length = 60\n",
    "max_target_length = 60\n",
    "\n",
    "tokenized_datasets = split.map(\n",
    "    preprocess_function,\n",
    "    batched=True,\n",
    "    remove_columns=split[\"train\"].column_names,\n",
    ")\n",
    "\n",
    "\n",
    "data_collator = DataCollatorForSeq2Seq(tokenizer)\n",
    "batch = data_collator([tokenized_datasets[\"train\"][i] for i in range(0, 5)])\n",
    "batch.keys()\n",
    "\n",
    "\n",
    "train_loader = DataLoader(\n",
    "    tokenized_datasets[\"train\"],\n",
    "    shuffle=True,\n",
    "    batch_size=256,\n",
    "    collate_fn=data_collator,\n",
    "    num_workers=6, pin_memory=True,\n",
    ")\n",
    "valid_loader = DataLoader(\n",
    "    tokenized_datasets[\"test\"],\n",
    "    batch_size=256,\n",
    "    collate_fn=data_collator,\n",
    "    num_workers=6, pin_memory=True\n",
    ")\n",
    "\n"
   ]
  },
  {
   "cell_type": "code",
   "execution_count": 7,
   "id": "6f4385dc",
   "metadata": {
    "tags": []
   },
   "outputs": [
    {
     "data": {
      "text/plain": [
       "DatasetDict({\n",
       "    train: Dataset({\n",
       "        features: ['input_ids', 'attention_mask', 'labels'],\n",
       "        num_rows: 2500\n",
       "    })\n",
       "    test: Dataset({\n",
       "        features: ['input_ids', 'attention_mask', 'labels'],\n",
       "        num_rows: 2500\n",
       "    })\n",
       "})"
      ]
     },
     "execution_count": 7,
     "metadata": {},
     "output_type": "execute_result"
    }
   ],
   "source": [
    "tokenized_datasets"
   ]
  },
  {
   "cell_type": "markdown",
   "id": "1b94834d",
   "metadata": {},
   "source": [
    "# Load Model"
   ]
  },
  {
   "cell_type": "code",
   "execution_count": 9,
   "id": "2b819b9d",
   "metadata": {
    "tags": []
   },
   "outputs": [
    {
     "name": "stdout",
     "output_type": "stream",
     "text": [
      "Using encoder without a target.\n",
      "cuda:0\n"
     ]
    },
    {
     "data": {
      "text/plain": [
       "Decoder(\n",
       "  (embedding): Embedding(62519, 512)\n",
       "  (pos_encoding): PositionalEncoding(\n",
       "    (dropout): Dropout(p=0.1, inplace=False)\n",
       "  )\n",
       "  (transformer_blocks): Sequential(\n",
       "    (0): DecoderBlock(\n",
       "      (linear1): LayerNorm((512,), eps=1e-05, elementwise_affine=True)\n",
       "      (linear2): LayerNorm((512,), eps=1e-05, elementwise_affine=True)\n",
       "      (linear3): LayerNorm((512,), eps=1e-05, elementwise_affine=True)\n",
       "      (mhatt1): MultiHeadAttention(\n",
       "        (key): Linear(in_features=512, out_features=512, bias=True)\n",
       "        (query): Linear(in_features=512, out_features=512, bias=True)\n",
       "        (value): Linear(in_features=512, out_features=512, bias=True)\n",
       "        (fc): Linear(in_features=512, out_features=512, bias=True)\n",
       "      )\n",
       "      (mhatt2): MultiHeadAttention(\n",
       "        (key): Linear(in_features=512, out_features=512, bias=True)\n",
       "        (query): Linear(in_features=512, out_features=512, bias=True)\n",
       "        (value): Linear(in_features=512, out_features=512, bias=True)\n",
       "        (fc): Linear(in_features=512, out_features=512, bias=True)\n",
       "      )\n",
       "      (nn): Sequential(\n",
       "        (0): Linear(in_features=512, out_features=2048, bias=True)\n",
       "        (1): GELU(approximate='none')\n",
       "        (2): Linear(in_features=2048, out_features=512, bias=True)\n",
       "        (3): Dropout(p=0.1, inplace=False)\n",
       "      )\n",
       "      (dropout): Dropout(p=0.1, inplace=False)\n",
       "    )\n",
       "    (1): DecoderBlock(\n",
       "      (linear1): LayerNorm((512,), eps=1e-05, elementwise_affine=True)\n",
       "      (linear2): LayerNorm((512,), eps=1e-05, elementwise_affine=True)\n",
       "      (linear3): LayerNorm((512,), eps=1e-05, elementwise_affine=True)\n",
       "      (mhatt1): MultiHeadAttention(\n",
       "        (key): Linear(in_features=512, out_features=512, bias=True)\n",
       "        (query): Linear(in_features=512, out_features=512, bias=True)\n",
       "        (value): Linear(in_features=512, out_features=512, bias=True)\n",
       "        (fc): Linear(in_features=512, out_features=512, bias=True)\n",
       "      )\n",
       "      (mhatt2): MultiHeadAttention(\n",
       "        (key): Linear(in_features=512, out_features=512, bias=True)\n",
       "        (query): Linear(in_features=512, out_features=512, bias=True)\n",
       "        (value): Linear(in_features=512, out_features=512, bias=True)\n",
       "        (fc): Linear(in_features=512, out_features=512, bias=True)\n",
       "      )\n",
       "      (nn): Sequential(\n",
       "        (0): Linear(in_features=512, out_features=2048, bias=True)\n",
       "        (1): GELU(approximate='none')\n",
       "        (2): Linear(in_features=2048, out_features=512, bias=True)\n",
       "        (3): Dropout(p=0.1, inplace=False)\n",
       "      )\n",
       "      (dropout): Dropout(p=0.1, inplace=False)\n",
       "    )\n",
       "    (2): DecoderBlock(\n",
       "      (linear1): LayerNorm((512,), eps=1e-05, elementwise_affine=True)\n",
       "      (linear2): LayerNorm((512,), eps=1e-05, elementwise_affine=True)\n",
       "      (linear3): LayerNorm((512,), eps=1e-05, elementwise_affine=True)\n",
       "      (mhatt1): MultiHeadAttention(\n",
       "        (key): Linear(in_features=512, out_features=512, bias=True)\n",
       "        (query): Linear(in_features=512, out_features=512, bias=True)\n",
       "        (value): Linear(in_features=512, out_features=512, bias=True)\n",
       "        (fc): Linear(in_features=512, out_features=512, bias=True)\n",
       "      )\n",
       "      (mhatt2): MultiHeadAttention(\n",
       "        (key): Linear(in_features=512, out_features=512, bias=True)\n",
       "        (query): Linear(in_features=512, out_features=512, bias=True)\n",
       "        (value): Linear(in_features=512, out_features=512, bias=True)\n",
       "        (fc): Linear(in_features=512, out_features=512, bias=True)\n",
       "      )\n",
       "      (nn): Sequential(\n",
       "        (0): Linear(in_features=512, out_features=2048, bias=True)\n",
       "        (1): GELU(approximate='none')\n",
       "        (2): Linear(in_features=2048, out_features=512, bias=True)\n",
       "        (3): Dropout(p=0.1, inplace=False)\n",
       "      )\n",
       "      (dropout): Dropout(p=0.1, inplace=False)\n",
       "    )\n",
       "    (3): DecoderBlock(\n",
       "      (linear1): LayerNorm((512,), eps=1e-05, elementwise_affine=True)\n",
       "      (linear2): LayerNorm((512,), eps=1e-05, elementwise_affine=True)\n",
       "      (linear3): LayerNorm((512,), eps=1e-05, elementwise_affine=True)\n",
       "      (mhatt1): MultiHeadAttention(\n",
       "        (key): Linear(in_features=512, out_features=512, bias=True)\n",
       "        (query): Linear(in_features=512, out_features=512, bias=True)\n",
       "        (value): Linear(in_features=512, out_features=512, bias=True)\n",
       "        (fc): Linear(in_features=512, out_features=512, bias=True)\n",
       "      )\n",
       "      (mhatt2): MultiHeadAttention(\n",
       "        (key): Linear(in_features=512, out_features=512, bias=True)\n",
       "        (query): Linear(in_features=512, out_features=512, bias=True)\n",
       "        (value): Linear(in_features=512, out_features=512, bias=True)\n",
       "        (fc): Linear(in_features=512, out_features=512, bias=True)\n",
       "      )\n",
       "      (nn): Sequential(\n",
       "        (0): Linear(in_features=512, out_features=2048, bias=True)\n",
       "        (1): GELU(approximate='none')\n",
       "        (2): Linear(in_features=2048, out_features=512, bias=True)\n",
       "        (3): Dropout(p=0.1, inplace=False)\n",
       "      )\n",
       "      (dropout): Dropout(p=0.1, inplace=False)\n",
       "    )\n",
       "  )\n",
       "  (linear): LayerNorm((512,), eps=1e-05, elementwise_affine=True)\n",
       "  (fc): Linear(in_features=512, out_features=62519, bias=True)\n",
       ")"
      ]
     },
     "execution_count": 9,
     "metadata": {},
     "output_type": "execute_result"
    }
   ],
   "source": [
    "from translation.models.transformers import Transformer\n",
    "from translation.models.encoder import Encoder\n",
    "from translation.models.decoder import Decoder\n",
    "\n",
    "dkey = 64\n",
    "dmodel = 512\n",
    "nheads = 8\n",
    "nlayers = 4\n",
    "dropout = 0.1\n",
    "\n",
    "encoder = Encoder(vocab_size=tokenizer.vocab_size + 1,\n",
    "                  max_len=60,\n",
    "                  d_key=64,\n",
    "                  d_model=512,\n",
    "                  n_heads=8,\n",
    "                  n_layers=4,\n",
    "                  dropout_prob=0.1)\n",
    "decoder = Decoder(vocab_size=tokenizer.vocab_size + 1,\n",
    "                  max_len=60,\n",
    "                  d_key=64,\n",
    "                  d_model=512,\n",
    "                  n_heads=8,\n",
    "                  n_layers=4,\n",
    "                  dropout_prob=0.1)\n",
    "transformer = Transformer(encoder, decoder)\n",
    "device = torch.device(\"cuda:0\" if torch.cuda.is_available() else \"cpu\")\n",
    "print(device)\n",
    "encoder.to(device)\n",
    "decoder.to(device)"
   ]
  },
  {
   "cell_type": "code",
   "execution_count": null,
   "id": "f9688071",
   "metadata": {
    "tags": []
   },
   "outputs": [],
   "source": []
  },
  {
   "cell_type": "code",
   "execution_count": 10,
   "id": "5911c917",
   "metadata": {
    "tags": []
   },
   "outputs": [
    {
     "data": {
      "text/plain": [
       "======================================================================\n",
       "Layer (type:depth-idx)                        Param #\n",
       "======================================================================\n",
       "Transformer                                   --\n",
       "├─Encoder: 1-1                                --\n",
       "│    └─Embedding: 2-1                         32,009,728\n",
       "│    └─PositionalEncoding: 2-2                --\n",
       "│    │    └─Dropout: 3-1                      --\n",
       "│    └─Sequential: 2-3                        --\n",
       "│    │    └─EncoderBlock: 3-2                 3,152,384\n",
       "│    │    └─EncoderBlock: 3-3                 3,152,384\n",
       "│    │    └─EncoderBlock: 3-4                 3,152,384\n",
       "│    │    └─EncoderBlock: 3-5                 3,152,384\n",
       "│    └─LayerNorm: 2-4                         1,024\n",
       "├─Decoder: 1-2                                --\n",
       "│    └─Embedding: 2-5                         32,009,728\n",
       "│    └─PositionalEncoding: 2-6                --\n",
       "│    │    └─Dropout: 3-6                      --\n",
       "│    └─Sequential: 2-7                        --\n",
       "│    │    └─DecoderBlock: 3-7                 4,204,032\n",
       "│    │    └─DecoderBlock: 3-8                 4,204,032\n",
       "│    │    └─DecoderBlock: 3-9                 4,204,032\n",
       "│    │    └─DecoderBlock: 3-10                4,204,032\n",
       "│    └─LayerNorm: 2-8                         1,024\n",
       "│    └─Linear: 2-9                            32,072,247\n",
       "======================================================================\n",
       "Total params: 125,519,415\n",
       "Trainable params: 125,519,415\n",
       "Non-trainable params: 0\n",
       "======================================================================"
      ]
     },
     "execution_count": 10,
     "metadata": {},
     "output_type": "execute_result"
    }
   ],
   "source": [
    "from torchinfo import summary\n",
    "summary(transformer)"
   ]
  },
  {
   "cell_type": "code",
   "execution_count": 11,
   "id": "71f7d4b7",
   "metadata": {
    "tags": []
   },
   "outputs": [],
   "source": []
  },
  {
   "cell_type": "code",
   "execution_count": 53,
   "id": "1007ad39",
   "metadata": {
    "tags": []
   },
   "outputs": [],
   "source": [
    "def translate(input_sentence):\n",
    "    encoder_input = tokenizer(input_sentence, return_tensors='pt',max_length=max_input_length, truncation=True).to(device)\n",
    "    encoder_output = encoder(encoder_input['input_ids'], encoder_input['attention_mask'])\n",
    "\n",
    "    decoder_input_ids = torch.tensor([[ int(tokenizer.vocab_size)]], device=device)\n",
    "    decoder_attn_mask = torch.ones_like(decoder_input_ids, device=device)\n",
    "\n",
    "    for _ in range(60):\n",
    "        decoder_output = decoder(\n",
    "            encoder_output,\n",
    "            decoder_input_ids,\n",
    "            encoder_input['attention_mask'],\n",
    "            decoder_attn_mask,\n",
    "        )\n",
    "\n",
    "        prediction_id = torch.argmax(decoder_output[:, -1, :], axis=-1)\n",
    "\n",
    "        decoder_input_ids = torch.hstack((decoder_input_ids, prediction_id.view(1, 1)))\n",
    "\n",
    "        decoder_attn_mask = torch.ones_like(decoder_input_ids)\n",
    "\n",
    "        if prediction_id == 0:\n",
    "            break\n",
    "  \n",
    "    translation = tokenizer.decode(decoder_input_ids[0, 1:])\n",
    "    return(translation)"
   ]
  },
  {
   "cell_type": "markdown",
   "id": "74a65b52",
   "metadata": {},
   "source": [
    "# Inference\n",
    "\n",
    "Compare performance of model to that of hugging face model"
   ]
  },
  {
   "cell_type": "code",
   "execution_count": 21,
   "id": "b48ce324",
   "metadata": {
    "tags": []
   },
   "outputs": [
    {
     "name": "stderr",
     "output_type": "stream",
     "text": [
      "/tmp/ipykernel_357153/367225328.py:3: FutureWarning: load_metric is deprecated and will be removed in the next major version of datasets. Use 'evaluate.load' instead, from the new library 🤗 Evaluate: https://huggingface.co/docs/evaluate\n",
      "  bleu_metric = load_metric(\"sacrebleu\")\n"
     ]
    }
   ],
   "source": [
    "\n",
    "from datasets import load_metric\n",
    "\n",
    "bleu_metric = load_metric(\"sacrebleu\")\n",
    "bert_metric = load_metric(\"bertscore\")"
   ]
  },
  {
   "cell_type": "code",
   "execution_count": 22,
   "id": "91aa2f83",
   "metadata": {},
   "outputs": [
    {
     "data": {
      "text/plain": [
       "Transformer(\n",
       "  (encoder): Encoder(\n",
       "    (embedding): Embedding(62519, 512)\n",
       "    (pos_encoding): PositionalEncoding(\n",
       "      (dropout): Dropout(p=0.1, inplace=False)\n",
       "    )\n",
       "    (transformer_blocks): Sequential(\n",
       "      (0): EncoderBlock(\n",
       "        (linear1): LayerNorm((512,), eps=1e-05, elementwise_affine=True)\n",
       "        (linear2): LayerNorm((512,), eps=1e-05, elementwise_affine=True)\n",
       "        (mhatt): MultiHeadAttention(\n",
       "          (key): Linear(in_features=512, out_features=512, bias=True)\n",
       "          (query): Linear(in_features=512, out_features=512, bias=True)\n",
       "          (value): Linear(in_features=512, out_features=512, bias=True)\n",
       "          (fc): Linear(in_features=512, out_features=512, bias=True)\n",
       "        )\n",
       "        (nn): Sequential(\n",
       "          (0): Linear(in_features=512, out_features=2048, bias=True)\n",
       "          (1): GELU(approximate='none')\n",
       "          (2): Linear(in_features=2048, out_features=512, bias=True)\n",
       "          (3): Dropout(p=0.1, inplace=False)\n",
       "        )\n",
       "        (dropout): Dropout(p=0.1, inplace=False)\n",
       "      )\n",
       "      (1): EncoderBlock(\n",
       "        (linear1): LayerNorm((512,), eps=1e-05, elementwise_affine=True)\n",
       "        (linear2): LayerNorm((512,), eps=1e-05, elementwise_affine=True)\n",
       "        (mhatt): MultiHeadAttention(\n",
       "          (key): Linear(in_features=512, out_features=512, bias=True)\n",
       "          (query): Linear(in_features=512, out_features=512, bias=True)\n",
       "          (value): Linear(in_features=512, out_features=512, bias=True)\n",
       "          (fc): Linear(in_features=512, out_features=512, bias=True)\n",
       "        )\n",
       "        (nn): Sequential(\n",
       "          (0): Linear(in_features=512, out_features=2048, bias=True)\n",
       "          (1): GELU(approximate='none')\n",
       "          (2): Linear(in_features=2048, out_features=512, bias=True)\n",
       "          (3): Dropout(p=0.1, inplace=False)\n",
       "        )\n",
       "        (dropout): Dropout(p=0.1, inplace=False)\n",
       "      )\n",
       "      (2): EncoderBlock(\n",
       "        (linear1): LayerNorm((512,), eps=1e-05, elementwise_affine=True)\n",
       "        (linear2): LayerNorm((512,), eps=1e-05, elementwise_affine=True)\n",
       "        (mhatt): MultiHeadAttention(\n",
       "          (key): Linear(in_features=512, out_features=512, bias=True)\n",
       "          (query): Linear(in_features=512, out_features=512, bias=True)\n",
       "          (value): Linear(in_features=512, out_features=512, bias=True)\n",
       "          (fc): Linear(in_features=512, out_features=512, bias=True)\n",
       "        )\n",
       "        (nn): Sequential(\n",
       "          (0): Linear(in_features=512, out_features=2048, bias=True)\n",
       "          (1): GELU(approximate='none')\n",
       "          (2): Linear(in_features=2048, out_features=512, bias=True)\n",
       "          (3): Dropout(p=0.1, inplace=False)\n",
       "        )\n",
       "        (dropout): Dropout(p=0.1, inplace=False)\n",
       "      )\n",
       "      (3): EncoderBlock(\n",
       "        (linear1): LayerNorm((512,), eps=1e-05, elementwise_affine=True)\n",
       "        (linear2): LayerNorm((512,), eps=1e-05, elementwise_affine=True)\n",
       "        (mhatt): MultiHeadAttention(\n",
       "          (key): Linear(in_features=512, out_features=512, bias=True)\n",
       "          (query): Linear(in_features=512, out_features=512, bias=True)\n",
       "          (value): Linear(in_features=512, out_features=512, bias=True)\n",
       "          (fc): Linear(in_features=512, out_features=512, bias=True)\n",
       "        )\n",
       "        (nn): Sequential(\n",
       "          (0): Linear(in_features=512, out_features=2048, bias=True)\n",
       "          (1): GELU(approximate='none')\n",
       "          (2): Linear(in_features=2048, out_features=512, bias=True)\n",
       "          (3): Dropout(p=0.1, inplace=False)\n",
       "        )\n",
       "        (dropout): Dropout(p=0.1, inplace=False)\n",
       "      )\n",
       "    )\n",
       "    (linear): LayerNorm((512,), eps=1e-05, elementwise_affine=True)\n",
       "  )\n",
       "  (decoder): Decoder(\n",
       "    (embedding): Embedding(62519, 512)\n",
       "    (pos_encoding): PositionalEncoding(\n",
       "      (dropout): Dropout(p=0.1, inplace=False)\n",
       "    )\n",
       "    (transformer_blocks): Sequential(\n",
       "      (0): DecoderBlock(\n",
       "        (linear1): LayerNorm((512,), eps=1e-05, elementwise_affine=True)\n",
       "        (linear2): LayerNorm((512,), eps=1e-05, elementwise_affine=True)\n",
       "        (linear3): LayerNorm((512,), eps=1e-05, elementwise_affine=True)\n",
       "        (mhatt1): MultiHeadAttention(\n",
       "          (key): Linear(in_features=512, out_features=512, bias=True)\n",
       "          (query): Linear(in_features=512, out_features=512, bias=True)\n",
       "          (value): Linear(in_features=512, out_features=512, bias=True)\n",
       "          (fc): Linear(in_features=512, out_features=512, bias=True)\n",
       "        )\n",
       "        (mhatt2): MultiHeadAttention(\n",
       "          (key): Linear(in_features=512, out_features=512, bias=True)\n",
       "          (query): Linear(in_features=512, out_features=512, bias=True)\n",
       "          (value): Linear(in_features=512, out_features=512, bias=True)\n",
       "          (fc): Linear(in_features=512, out_features=512, bias=True)\n",
       "        )\n",
       "        (nn): Sequential(\n",
       "          (0): Linear(in_features=512, out_features=2048, bias=True)\n",
       "          (1): GELU(approximate='none')\n",
       "          (2): Linear(in_features=2048, out_features=512, bias=True)\n",
       "          (3): Dropout(p=0.1, inplace=False)\n",
       "        )\n",
       "        (dropout): Dropout(p=0.1, inplace=False)\n",
       "      )\n",
       "      (1): DecoderBlock(\n",
       "        (linear1): LayerNorm((512,), eps=1e-05, elementwise_affine=True)\n",
       "        (linear2): LayerNorm((512,), eps=1e-05, elementwise_affine=True)\n",
       "        (linear3): LayerNorm((512,), eps=1e-05, elementwise_affine=True)\n",
       "        (mhatt1): MultiHeadAttention(\n",
       "          (key): Linear(in_features=512, out_features=512, bias=True)\n",
       "          (query): Linear(in_features=512, out_features=512, bias=True)\n",
       "          (value): Linear(in_features=512, out_features=512, bias=True)\n",
       "          (fc): Linear(in_features=512, out_features=512, bias=True)\n",
       "        )\n",
       "        (mhatt2): MultiHeadAttention(\n",
       "          (key): Linear(in_features=512, out_features=512, bias=True)\n",
       "          (query): Linear(in_features=512, out_features=512, bias=True)\n",
       "          (value): Linear(in_features=512, out_features=512, bias=True)\n",
       "          (fc): Linear(in_features=512, out_features=512, bias=True)\n",
       "        )\n",
       "        (nn): Sequential(\n",
       "          (0): Linear(in_features=512, out_features=2048, bias=True)\n",
       "          (1): GELU(approximate='none')\n",
       "          (2): Linear(in_features=2048, out_features=512, bias=True)\n",
       "          (3): Dropout(p=0.1, inplace=False)\n",
       "        )\n",
       "        (dropout): Dropout(p=0.1, inplace=False)\n",
       "      )\n",
       "      (2): DecoderBlock(\n",
       "        (linear1): LayerNorm((512,), eps=1e-05, elementwise_affine=True)\n",
       "        (linear2): LayerNorm((512,), eps=1e-05, elementwise_affine=True)\n",
       "        (linear3): LayerNorm((512,), eps=1e-05, elementwise_affine=True)\n",
       "        (mhatt1): MultiHeadAttention(\n",
       "          (key): Linear(in_features=512, out_features=512, bias=True)\n",
       "          (query): Linear(in_features=512, out_features=512, bias=True)\n",
       "          (value): Linear(in_features=512, out_features=512, bias=True)\n",
       "          (fc): Linear(in_features=512, out_features=512, bias=True)\n",
       "        )\n",
       "        (mhatt2): MultiHeadAttention(\n",
       "          (key): Linear(in_features=512, out_features=512, bias=True)\n",
       "          (query): Linear(in_features=512, out_features=512, bias=True)\n",
       "          (value): Linear(in_features=512, out_features=512, bias=True)\n",
       "          (fc): Linear(in_features=512, out_features=512, bias=True)\n",
       "        )\n",
       "        (nn): Sequential(\n",
       "          (0): Linear(in_features=512, out_features=2048, bias=True)\n",
       "          (1): GELU(approximate='none')\n",
       "          (2): Linear(in_features=2048, out_features=512, bias=True)\n",
       "          (3): Dropout(p=0.1, inplace=False)\n",
       "        )\n",
       "        (dropout): Dropout(p=0.1, inplace=False)\n",
       "      )\n",
       "      (3): DecoderBlock(\n",
       "        (linear1): LayerNorm((512,), eps=1e-05, elementwise_affine=True)\n",
       "        (linear2): LayerNorm((512,), eps=1e-05, elementwise_affine=True)\n",
       "        (linear3): LayerNorm((512,), eps=1e-05, elementwise_affine=True)\n",
       "        (mhatt1): MultiHeadAttention(\n",
       "          (key): Linear(in_features=512, out_features=512, bias=True)\n",
       "          (query): Linear(in_features=512, out_features=512, bias=True)\n",
       "          (value): Linear(in_features=512, out_features=512, bias=True)\n",
       "          (fc): Linear(in_features=512, out_features=512, bias=True)\n",
       "        )\n",
       "        (mhatt2): MultiHeadAttention(\n",
       "          (key): Linear(in_features=512, out_features=512, bias=True)\n",
       "          (query): Linear(in_features=512, out_features=512, bias=True)\n",
       "          (value): Linear(in_features=512, out_features=512, bias=True)\n",
       "          (fc): Linear(in_features=512, out_features=512, bias=True)\n",
       "        )\n",
       "        (nn): Sequential(\n",
       "          (0): Linear(in_features=512, out_features=2048, bias=True)\n",
       "          (1): GELU(approximate='none')\n",
       "          (2): Linear(in_features=2048, out_features=512, bias=True)\n",
       "          (3): Dropout(p=0.1, inplace=False)\n",
       "        )\n",
       "        (dropout): Dropout(p=0.1, inplace=False)\n",
       "      )\n",
       "    )\n",
       "    (linear): LayerNorm((512,), eps=1e-05, elementwise_affine=True)\n",
       "    (fc): Linear(in_features=512, out_features=62519, bias=True)\n",
       "  )\n",
       ")"
      ]
     },
     "execution_count": 22,
     "metadata": {},
     "output_type": "execute_result"
    }
   ],
   "source": [
    "transformer.load_state_dict(torch.load('/home/sutclw/Work/Preparation/Projects/translation-app/assets/ru-en-final.pt'))\n",
    "transformer.eval()"
   ]
  },
  {
   "cell_type": "code",
   "execution_count": null,
   "id": "c357ab20",
   "metadata": {},
   "outputs": [],
   "source": [
    "# , lang=\"ru\""
   ]
  },
  {
   "cell_type": "code",
   "execution_count": 40,
   "id": "25d88d61",
   "metadata": {},
   "outputs": [],
   "source": [
    "from transformers import pipeline\n",
    "translator = pipeline(\"translation\",\n",
    "                model=f'Helsinki-NLP/opus-mt-ru-en', device=0)\n"
   ]
  },
  {
   "cell_type": "code",
   "execution_count": 54,
   "id": "448365bb",
   "metadata": {},
   "outputs": [],
   "source": [
    "translations = []\n",
    "targets = []\n",
    "bertscores = []\n",
    "bleuscores = []\n",
    "for  i in range(100):\n",
    "    translations.append(translate(split['test'][i][l1])[:-4])\n",
    "    targets.append(split['test'][i][l2])\n",
    "    score =bert_metric.compute(predictions=[translations[i]], references=[targets[i]], lang=\"en\")['f1']\n",
    "    bertscores.append(score)\n",
    "    score =bleu_metric.compute(predictions=[translations[i]], references=[[targets[i]]])['score']\n",
    "    bleuscores.append(score)\n",
    "    "
   ]
  },
  {
   "cell_type": "code",
   "execution_count": 55,
   "id": "5f8e1387",
   "metadata": {},
   "outputs": [
    {
     "data": {
      "text/plain": [
       "27.610513896362352"
      ]
     },
     "execution_count": 55,
     "metadata": {},
     "output_type": "execute_result"
    }
   ],
   "source": [
    "np.mean(bleuscores)"
   ]
  },
  {
   "cell_type": "code",
   "execution_count": 56,
   "id": "f61e10fb",
   "metadata": {},
   "outputs": [
    {
     "data": {
      "text/plain": [
       "0.9330024778842926"
      ]
     },
     "execution_count": 56,
     "metadata": {},
     "output_type": "execute_result"
    }
   ],
   "source": [
    "np.mean(bertscores)"
   ]
  },
  {
   "cell_type": "code",
   "execution_count": 47,
   "id": "dfcf5866",
   "metadata": {},
   "outputs": [
    {
     "name": "stderr",
     "output_type": "stream",
     "text": [
      "/home/sutclw/anaconda3/envs/torch/lib/python3.10/site-packages/transformers/pipelines/base.py:1045: UserWarning: You seem to be using the pipelines sequentially on GPU. In order to maximize efficiency please use a dataset\n",
      "  warnings.warn(\n"
     ]
    }
   ],
   "source": [
    "translations = []\n",
    "targets = []\n",
    "bertscores = []\n",
    "bleuscores = []\n",
    "for  i in range(100):\n",
    "    translations.append(translator(split['test'][i][l1])[0]['translation_text'])\n",
    "    targets.append(split['test'][i][l2])\n",
    "    score =bert_metric.compute(predictions=[translations[i]], references=[targets[i]], lang=\"en\")['f1']\n",
    "    bertscores.append(score)\n",
    "    score =bleu_metric.compute(predictions=[translations[i]], references=[[targets[i]]])['score']\n",
    "    bleuscores.append(score)"
   ]
  },
  {
   "cell_type": "code",
   "execution_count": 48,
   "id": "e23235dd",
   "metadata": {},
   "outputs": [
    {
     "data": {
      "text/plain": [
       "21.614897933925686"
      ]
     },
     "execution_count": 48,
     "metadata": {},
     "output_type": "execute_result"
    }
   ],
   "source": [
    "np.mean(bleuscores)"
   ]
  },
  {
   "cell_type": "code",
   "execution_count": 49,
   "id": "c22f2e36",
   "metadata": {},
   "outputs": [
    {
     "data": {
      "text/plain": [
       "0.9267858362197876"
      ]
     },
     "execution_count": 49,
     "metadata": {},
     "output_type": "execute_result"
    }
   ],
   "source": [
    "np.mean(bertscores)"
   ]
  },
  {
   "cell_type": "code",
   "execution_count": 91,
   "id": "ab51e4bd",
   "metadata": {},
   "outputs": [],
   "source": [
    "sent = \"Я хочу есть рыбу потому что она мне кажется вкусной\""
   ]
  },
  {
   "cell_type": "code",
   "execution_count": 92,
   "id": "08f6721c",
   "metadata": {},
   "outputs": [
    {
     "data": {
      "text/plain": [
       "'I want to eat fish because it seems tasty to me.</s>'"
      ]
     },
     "execution_count": 92,
     "metadata": {},
     "output_type": "execute_result"
    }
   ],
   "source": [
    "translate(sent)"
   ]
  },
  {
   "cell_type": "code",
   "execution_count": 87,
   "id": "6e555feb",
   "metadata": {},
   "outputs": [],
   "source": [
    "att = encoder.transformer_blocks[0].mhatt.att_weights.detach().cpu().numpy()"
   ]
  },
  {
   "cell_type": "code",
   "execution_count": 88,
   "id": "bf806cf9",
   "metadata": {},
   "outputs": [
    {
     "data": {
      "text/plain": [
       "<matplotlib.image.AxesImage at 0x7fe82480b280>"
      ]
     },
     "execution_count": 88,
     "metadata": {},
     "output_type": "execute_result"
    },
    {
     "data": {
      "image/png": "[encoded data removed]",
      "text/plain": [
       "<Figure size 640x480 with 1 Axes>"
      ]
     },
     "metadata": {},
     "output_type": "display_data"
    }
   ],
   "source": [
    "import matplotlib.pyplot as plt\n",
    "\n",
    "plt.imshow(att[0][0])"
   ]
  },
  {
   "cell_type": "code",
   "execution_count": 93,
   "id": "0306023c",
   "metadata": {},
   "outputs": [],
   "source": [
    "labels=sent.split(' ')"
   ]
  },
  {
   "cell_type": "code",
   "execution_count": 133,
   "id": "417bd56e",
   "metadata": {},
   "outputs": [
    {
     "data": {
      "image/png": "[encoded data removed]",
      "text/plain": [
       "<Figure size 640x480 with 2 Axes>"
      ]
     },
     "metadata": {},
     "output_type": "display_data"
    }
   ],
   "source": [
    "import seaborn as sns\n",
    "sns.heatmap(att[0][0][:-1, :-1], \n",
    "            fmt='.2%', xticklabels=labels, yticklabels=labels, cmap='Blues')\n",
    "plt.savefig('images/ru_attention.png',dpi=300)"
   ]
  },
  {
   "cell_type": "code",
   "execution_count": 130,
   "id": "a12fde04",
   "metadata": {},
   "outputs": [
    {
     "data": {
      "text/plain": [
       "<AxesSubplot: >"
      ]
     },
     "execution_count": 130,
     "metadata": {},
     "output_type": "execute_result"
    },
    {
     "data": {
      "image/png": "[encoded data removed]",
      "text/plain": [
       "<Figure size 640x480 with 2 Axes>"
      ]
     },
     "metadata": {},
     "output_type": "display_data"
    }
   ],
   "source": [
    "import seaborn as sns\n",
    "sns.heatmap(att[0][1], \n",
    "            fmt='.2%', xticklabels=labels, yticklabels=labels, cmap='Blues')"
   ]
  },
  {
   "cell_type": "code",
   "execution_count": null,
   "id": "50185521",
   "metadata": {},
   "outputs": [],
   "source": []
  },
  {
   "cell_type": "code",
   "execution_count": 106,
   "id": "cc1c03c8",
   "metadata": {},
   "outputs": [],
   "source": [
    "ensent = tokenizer(sent, return_tensors='pt',max_length=max_input_length, truncation=True).to(device)['input_ids']"
   ]
  },
  {
   "cell_type": "code",
   "execution_count": 103,
   "id": "50d57dfb",
   "metadata": {},
   "outputs": [
    {
     "data": {
      "text/plain": [
       "'in'"
      ]
     },
     "execution_count": 103,
     "metadata": {},
     "output_type": "execute_result"
    }
   ],
   "source": [
    "tokenizer.decode(10)"
   ]
  },
  {
   "cell_type": "code",
   "execution_count": 125,
   "id": "f0f74943",
   "metadata": {},
   "outputs": [],
   "source": [
    "labels =[tokenizer.decode(ensent[0][i]) for i in range(0, ensent.size(1))]"
   ]
  },
  {
   "cell_type": "code",
   "execution_count": 126,
   "id": "79ad4ae9",
   "metadata": {},
   "outputs": [
    {
     "data": {
      "text/plain": [
       "['Я',\n",
       " 'хочу',\n",
       " 'есть',\n",
       " 'рыб',\n",
       " 'у',\n",
       " 'потому',\n",
       " 'что',\n",
       " 'она',\n",
       " 'мне',\n",
       " 'кажется',\n",
       " 'вкус',\n",
       " 'ной',\n",
       " '</s>']"
      ]
     },
     "execution_count": 126,
     "metadata": {},
     "output_type": "execute_result"
    }
   ],
   "source": [
    "labels"
   ]
  },
  {
   "cell_type": "code",
   "execution_count": null,
   "id": "d572e629",
   "metadata": {},
   "outputs": [],
   "source": []
  }
 ],
 "metadata": {
  "kernelspec": {
   "display_name": "Python 3 (ipykernel)",
   "language": "python",
   "name": "python3"
  },
  "language_info": {
   "codemirror_mode": {
    "name": "ipython",
    "version": 3
   },
   "file_extension": ".py",
   "mimetype": "text/x-python",
   "name": "python",
   "nbconvert_exporter": "python",
   "pygments_lexer": "ipython3",
   "version": "3.10.9"
  }
 },
 "nbformat": 4,
 "nbformat_minor": 5
}
